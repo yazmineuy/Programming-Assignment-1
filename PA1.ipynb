{
 "cells": [
  {
   "cell_type": "markdown",
   "id": "38f25b06-58e3-48f7-ab96-5173bd4c9b83",
   "metadata": {},
   "source": [
    "PROGRAMMING ASSIGNMENT 1"
   ]
  },
  {
   "cell_type": "code",
   "execution_count": null,
   "id": "9b7c74e2-a237-4b67-9e65-c35807af1732",
   "metadata": {},
   "outputs": [],
   "source": [
    "#A. ALPHABET SOUP PROBLEM"
   ]
  },
  {
   "cell_type": "code",
   "execution_count": 32,
   "id": "dacdcf88-1a84-40a6-a2a9-00c85544c8b1",
   "metadata": {},
   "outputs": [
    {
     "name": "stdin",
     "output_type": "stream",
     "text": [
      "Enter a word:  matcha\n"
     ]
    },
    {
     "name": "stdout",
     "output_type": "stream",
     "text": [
      "aachmt\n"
     ]
    }
   ],
   "source": [
    "#ask the user to enter a word.\n",
    "alphabet_soup = input(\"Enter a word: \")\n",
    "#\"\".join joins them back into a string\n",
    "print(\"\".join(sorted(alphabet_soup)))"
   ]
  },
  {
   "cell_type": "code",
   "execution_count": null,
   "id": "add9a168-e0b2-4b3c-9da3-bc0f553211d8",
   "metadata": {},
   "outputs": [],
   "source": []
  },
  {
   "cell_type": "code",
   "execution_count": null,
   "id": "aa614ba4-82f4-4e03-9ea4-81be9e4735ec",
   "metadata": {},
   "outputs": [],
   "source": [
    "#B. EMOTICON PROBLEM"
   ]
  },
  {
   "cell_type": "code",
   "execution_count": 33,
   "id": "afd3b592-53a8-4d46-8c79-f95eb97d12ea",
   "metadata": {},
   "outputs": [
    {
     "name": "stdin",
     "output_type": "stream",
     "text": [
      "Enter a sentence:  You are so silly\n"
     ]
    },
    {
     "name": "stdout",
     "output_type": "stream",
     "text": [
      "You are so :p\n",
      "None\n"
     ]
    }
   ],
   "source": [
    "#ask user to input sentence\n",
    "user_input = input(\"Enter a sentence: \")\n",
    "\n",
    "#define a function named emotify that takes a 'sentence' as input\n",
    "def emotify(sentence):\n",
    "    #dictionary\n",
    "    emoticon = {\n",
    "        \"smile\": \":)\",\n",
    "        \"surprised\": \":0\",\n",
    "        \"silly\": \":p\",\n",
    "        \"shocked\": \"D:\"\n",
    "    }\n",
    "    #loop for value pair in the dictionary\n",
    "    for word, emo in emoticon.items():\n",
    "        sentence = sentence.replace(word, emo)\n",
    "    #print final result\n",
    "    print(sentence)\n",
    "\n",
    "#call function \n",
    "result = emotify(user_input)\n",
    "print(result)"
   ]
  },
  {
   "cell_type": "code",
   "execution_count": null,
   "id": "efc557d4-3966-4a16-a1fc-487c42d7e4a5",
   "metadata": {},
   "outputs": [],
   "source": []
  },
  {
   "cell_type": "code",
   "execution_count": null,
   "id": "2736b619-93e0-4bf2-8115-370d31e08b59",
   "metadata": {},
   "outputs": [],
   "source": [
    "#C. UPACKING LIST PROBLEM"
   ]
  },
  {
   "cell_type": "code",
   "execution_count": 34,
   "id": "ecda226c-f2df-4d53-b178-08e10e910ba7",
   "metadata": {},
   "outputs": [
    {
     "name": "stdin",
     "output_type": "stream",
     "text": [
      "Enter numbers separated by spaces:  1 2 3 4 5 6 7 \n"
     ]
    },
    {
     "name": "stdout",
     "output_type": "stream",
     "text": [
      "first:  1\n",
      "middle:  [2, 3, 4, 5, 6]\n",
      "last:  7\n"
     ]
    }
   ],
   "source": [
    "#ask the user to input a list separated by spaces\n",
    "writeyourcodehere = list(map(int, input(\"Enter numbers separated by spaces: \").split()))\n",
    "#unpack first, middle, and last\n",
    "first, middle, last = writeyourcodehere[0], writeyourcodehere[1:-1], writeyourcodehere[-1]\n",
    "#print the results\n",
    "print(\"First: \", first)\n",
    "print(\"Middle: \", middle)\n",
    "print(\"Last: \", last)"
   ]
  },
  {
   "cell_type": "code",
   "execution_count": null,
   "id": "ce51c733-00c4-4bf5-8e57-896aada044fa",
   "metadata": {},
   "outputs": [],
   "source": []
  }
 ],
 "metadata": {
  "kernelspec": {
   "display_name": "Python 3 (ipykernel)",
   "language": "python",
   "name": "python3"
  },
  "language_info": {
   "codemirror_mode": {
    "name": "ipython",
    "version": 3
   },
   "file_extension": ".py",
   "mimetype": "text/x-python",
   "name": "python",
   "nbconvert_exporter": "python",
   "pygments_lexer": "ipython3",
   "version": "3.13.5"
  }
 },
 "nbformat": 4,
 "nbformat_minor": 5
}
